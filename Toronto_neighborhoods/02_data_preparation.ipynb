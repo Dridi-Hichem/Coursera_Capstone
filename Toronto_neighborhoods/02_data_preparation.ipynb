{
 "cells": [
  {
   "cell_type": "markdown",
   "metadata": {},
   "source": [
    "<h1 align=center>Data Preparation</h1>\n",
    "\n",
    "For this assignment, we'll be processing the **Toronto dataframe** that we have built which consists of the **postal code** of each neighborhood along with the **borough** name and **neighborhood** name, in order to utilize the Foursquare location data, we need to get the **latitude** and the **longitude** coordinates of each neighborhood."
   ]
  },
  {
   "cell_type": "markdown",
   "metadata": {},
   "source": [
    "## Import libraries"
   ]
  },
  {
   "cell_type": "code",
   "execution_count": 1,
   "metadata": {},
   "outputs": [],
   "source": [
    "import pandas as pd\n",
    "import requests"
   ]
  },
  {
   "cell_type": "markdown",
   "metadata": {},
   "source": [
    "## Load Data"
   ]
  },
  {
   "cell_type": "code",
   "execution_count": 2,
   "metadata": {
    "scrolled": true
   },
   "outputs": [
    {
     "data": {
      "text/html": [
       "<div>\n",
       "<style scoped>\n",
       "    .dataframe tbody tr th:only-of-type {\n",
       "        vertical-align: middle;\n",
       "    }\n",
       "\n",
       "    .dataframe tbody tr th {\n",
       "        vertical-align: top;\n",
       "    }\n",
       "\n",
       "    .dataframe thead th {\n",
       "        text-align: right;\n",
       "    }\n",
       "</style>\n",
       "<table border=\"1\" class=\"dataframe\">\n",
       "  <thead>\n",
       "    <tr style=\"text-align: right;\">\n",
       "      <th></th>\n",
       "      <th>Postal Code</th>\n",
       "      <th>Borough</th>\n",
       "      <th>Neighbourhood</th>\n",
       "    </tr>\n",
       "  </thead>\n",
       "  <tbody>\n",
       "    <tr>\n",
       "      <th>0</th>\n",
       "      <td>M4V</td>\n",
       "      <td>Central Toronto</td>\n",
       "      <td>Summerhill West, Rathnelly, South Hill, Forest...</td>\n",
       "    </tr>\n",
       "    <tr>\n",
       "      <th>1</th>\n",
       "      <td>M4S</td>\n",
       "      <td>Central Toronto</td>\n",
       "      <td>Davisville</td>\n",
       "    </tr>\n",
       "    <tr>\n",
       "      <th>2</th>\n",
       "      <td>M4T</td>\n",
       "      <td>Central Toronto</td>\n",
       "      <td>Moore Park, Summerhill East</td>\n",
       "    </tr>\n",
       "    <tr>\n",
       "      <th>3</th>\n",
       "      <td>M5P</td>\n",
       "      <td>Central Toronto</td>\n",
       "      <td>Forest Hill North &amp; West, Forest Hill Road Park</td>\n",
       "    </tr>\n",
       "    <tr>\n",
       "      <th>4</th>\n",
       "      <td>M5R</td>\n",
       "      <td>Central Toronto</td>\n",
       "      <td>The Annex, North Midtown, Yorkville</td>\n",
       "    </tr>\n",
       "  </tbody>\n",
       "</table>\n",
       "</div>"
      ],
      "text/plain": [
       "  Postal Code          Borough  \\\n",
       "0         M4V  Central Toronto   \n",
       "1         M4S  Central Toronto   \n",
       "2         M4T  Central Toronto   \n",
       "3         M5P  Central Toronto   \n",
       "4         M5R  Central Toronto   \n",
       "\n",
       "                                       Neighbourhood  \n",
       "0  Summerhill West, Rathnelly, South Hill, Forest...  \n",
       "1                                         Davisville  \n",
       "2                        Moore Park, Summerhill East  \n",
       "3    Forest Hill North & West, Forest Hill Road Park  \n",
       "4                The Annex, North Midtown, Yorkville  "
      ]
     },
     "execution_count": 2,
     "metadata": {},
     "output_type": "execute_result"
    }
   ],
   "source": [
    "toronto_df = pd.read_csv('Toronto_neighborhoods.csv')\n",
    "toronto_df.head()"
   ]
  },
  {
   "cell_type": "code",
   "execution_count": 3,
   "metadata": {},
   "outputs": [
    {
     "data": {
      "text/plain": [
       "(103, 3)"
      ]
     },
     "execution_count": 3,
     "metadata": {},
     "output_type": "execute_result"
    }
   ],
   "source": [
    "toronto_df.shape"
   ]
  },
  {
   "cell_type": "markdown",
   "metadata": {},
   "source": [
    "## Get the Latitude and the Longitude\n",
    "In order to get the latitude and the longitude coordinates of each neighborhood, we'll be using a **Rest API** called [Geocoder API](https://developer.here.com/documentation/geocoding-search-api/dev_guide/topics/endpoint-geocode-brief.html). This API finds you the geo-coordinates of a known address, place, locality or administrative area, even if the query is incomplete or partly incorrect."
   ]
  },
  {
   "cell_type": "code",
   "execution_count": 4,
   "metadata": {},
   "outputs": [
    {
     "data": {
      "text/html": [
       "<div>\n",
       "<style scoped>\n",
       "    .dataframe tbody tr th:only-of-type {\n",
       "        vertical-align: middle;\n",
       "    }\n",
       "\n",
       "    .dataframe tbody tr th {\n",
       "        vertical-align: top;\n",
       "    }\n",
       "\n",
       "    .dataframe thead th {\n",
       "        text-align: right;\n",
       "    }\n",
       "</style>\n",
       "<table border=\"1\" class=\"dataframe\">\n",
       "  <thead>\n",
       "    <tr style=\"text-align: right;\">\n",
       "      <th></th>\n",
       "      <th>Postal Code</th>\n",
       "      <th>Borough</th>\n",
       "      <th>Neighbourhood</th>\n",
       "      <th>Latitude</th>\n",
       "      <th>Longitude</th>\n",
       "    </tr>\n",
       "  </thead>\n",
       "  <tbody>\n",
       "    <tr>\n",
       "      <th>0</th>\n",
       "      <td>M4V</td>\n",
       "      <td>Central Toronto</td>\n",
       "      <td>Summerhill West, Rathnelly, South Hill, Forest...</td>\n",
       "      <td>43.68600</td>\n",
       "      <td>-79.40233</td>\n",
       "    </tr>\n",
       "    <tr>\n",
       "      <th>1</th>\n",
       "      <td>M4S</td>\n",
       "      <td>Central Toronto</td>\n",
       "      <td>Davisville</td>\n",
       "      <td>43.70277</td>\n",
       "      <td>-79.38577</td>\n",
       "    </tr>\n",
       "    <tr>\n",
       "      <th>2</th>\n",
       "      <td>M4T</td>\n",
       "      <td>Central Toronto</td>\n",
       "      <td>Moore Park, Summerhill East</td>\n",
       "      <td>43.69050</td>\n",
       "      <td>-79.38297</td>\n",
       "    </tr>\n",
       "    <tr>\n",
       "      <th>3</th>\n",
       "      <td>M5P</td>\n",
       "      <td>Central Toronto</td>\n",
       "      <td>Forest Hill North &amp; West, Forest Hill Road Park</td>\n",
       "      <td>43.69479</td>\n",
       "      <td>-79.41440</td>\n",
       "    </tr>\n",
       "    <tr>\n",
       "      <th>4</th>\n",
       "      <td>M5R</td>\n",
       "      <td>Central Toronto</td>\n",
       "      <td>The Annex, North Midtown, Yorkville</td>\n",
       "      <td>43.67484</td>\n",
       "      <td>-79.40370</td>\n",
       "    </tr>\n",
       "    <tr>\n",
       "      <th>5</th>\n",
       "      <td>M4P</td>\n",
       "      <td>Central Toronto</td>\n",
       "      <td>Davisville North</td>\n",
       "      <td>43.71276</td>\n",
       "      <td>-79.38851</td>\n",
       "    </tr>\n",
       "    <tr>\n",
       "      <th>6</th>\n",
       "      <td>M5N</td>\n",
       "      <td>Central Toronto</td>\n",
       "      <td>Roselawn</td>\n",
       "      <td>43.71194</td>\n",
       "      <td>-79.41912</td>\n",
       "    </tr>\n",
       "    <tr>\n",
       "      <th>7</th>\n",
       "      <td>M4R</td>\n",
       "      <td>Central Toronto</td>\n",
       "      <td>North Toronto West,  Lawrence Park</td>\n",
       "      <td>43.71452</td>\n",
       "      <td>-79.40696</td>\n",
       "    </tr>\n",
       "    <tr>\n",
       "      <th>8</th>\n",
       "      <td>M4N</td>\n",
       "      <td>Central Toronto</td>\n",
       "      <td>Lawrence Park</td>\n",
       "      <td>43.72813</td>\n",
       "      <td>-79.38709</td>\n",
       "    </tr>\n",
       "    <tr>\n",
       "      <th>9</th>\n",
       "      <td>M5E</td>\n",
       "      <td>Downtown Toronto</td>\n",
       "      <td>Berczy Park</td>\n",
       "      <td>43.64516</td>\n",
       "      <td>-79.37367</td>\n",
       "    </tr>\n",
       "    <tr>\n",
       "      <th>10</th>\n",
       "      <td>M6G</td>\n",
       "      <td>Downtown Toronto</td>\n",
       "      <td>Christie</td>\n",
       "      <td>43.66869</td>\n",
       "      <td>-79.42071</td>\n",
       "    </tr>\n",
       "    <tr>\n",
       "      <th>11</th>\n",
       "      <td>M5G</td>\n",
       "      <td>Downtown Toronto</td>\n",
       "      <td>Central Bay Street</td>\n",
       "      <td>43.65609</td>\n",
       "      <td>-79.38493</td>\n",
       "    </tr>\n",
       "    <tr>\n",
       "      <th>12</th>\n",
       "      <td>M5X</td>\n",
       "      <td>Downtown Toronto</td>\n",
       "      <td>First Canadian Place, Underground city</td>\n",
       "      <td>43.64834</td>\n",
       "      <td>-79.38446</td>\n",
       "    </tr>\n",
       "    <tr>\n",
       "      <th>13</th>\n",
       "      <td>M5K</td>\n",
       "      <td>Downtown Toronto</td>\n",
       "      <td>Toronto Dominion Centre, Design Exchange</td>\n",
       "      <td>43.64840</td>\n",
       "      <td>-79.38394</td>\n",
       "    </tr>\n",
       "    <tr>\n",
       "      <th>14</th>\n",
       "      <td>M4Y</td>\n",
       "      <td>Downtown Toronto</td>\n",
       "      <td>Church and Wellesley</td>\n",
       "      <td>43.66659</td>\n",
       "      <td>-79.38130</td>\n",
       "    </tr>\n",
       "  </tbody>\n",
       "</table>\n",
       "</div>"
      ],
      "text/plain": [
       "   Postal Code           Borough  \\\n",
       "0          M4V   Central Toronto   \n",
       "1          M4S   Central Toronto   \n",
       "2          M4T   Central Toronto   \n",
       "3          M5P   Central Toronto   \n",
       "4          M5R   Central Toronto   \n",
       "5          M4P   Central Toronto   \n",
       "6          M5N   Central Toronto   \n",
       "7          M4R   Central Toronto   \n",
       "8          M4N   Central Toronto   \n",
       "9          M5E  Downtown Toronto   \n",
       "10         M6G  Downtown Toronto   \n",
       "11         M5G  Downtown Toronto   \n",
       "12         M5X  Downtown Toronto   \n",
       "13         M5K  Downtown Toronto   \n",
       "14         M4Y  Downtown Toronto   \n",
       "\n",
       "                                        Neighbourhood  Latitude  Longitude  \n",
       "0   Summerhill West, Rathnelly, South Hill, Forest...  43.68600  -79.40233  \n",
       "1                                          Davisville  43.70277  -79.38577  \n",
       "2                         Moore Park, Summerhill East  43.69050  -79.38297  \n",
       "3     Forest Hill North & West, Forest Hill Road Park  43.69479  -79.41440  \n",
       "4                 The Annex, North Midtown, Yorkville  43.67484  -79.40370  \n",
       "5                                    Davisville North  43.71276  -79.38851  \n",
       "6                                            Roselawn  43.71194  -79.41912  \n",
       "7                  North Toronto West,  Lawrence Park  43.71452  -79.40696  \n",
       "8                                       Lawrence Park  43.72813  -79.38709  \n",
       "9                                         Berczy Park  43.64516  -79.37367  \n",
       "10                                           Christie  43.66869  -79.42071  \n",
       "11                                 Central Bay Street  43.65609  -79.38493  \n",
       "12             First Canadian Place, Underground city  43.64834  -79.38446  \n",
       "13           Toronto Dominion Centre, Design Exchange  43.64840  -79.38394  \n",
       "14                               Church and Wellesley  43.66659  -79.38130  "
      ]
     },
     "execution_count": 4,
     "metadata": {},
     "output_type": "execute_result"
    }
   ],
   "source": [
    "URL = \"https://geocode.search.hereapi.com/v1/geocode\" # API url\n",
    "api_key = 'GBm_o7zG7vF5G61N0A_***********************' # acquired from developer.here.com\n",
    "\n",
    "coordinates = {'Lattitude': [], 'Longitude': []} # store the results\n",
    "\n",
    "# use the postal code to find the geo-coordinates\n",
    "for postal_code in toronto_df['Postal Code'] :\n",
    "    address = '{}, Toronto, Ontario'.format(postal_code)\n",
    "    PARAMS = {'apikey':api_key,'q':address}\n",
    "    r = requests.get(url = URL, params = PARAMS) \n",
    "    data = r.json()\n",
    "    try :\n",
    "        lat, lng = data['items'][0]['position']['lat'], data['items'][0]['position']['lng']    \n",
    "    except :\n",
    "        lat, lng = None, None\n",
    "    coordinates['Lattitude'] = coordinates.get('Lattitude') + [lat]\n",
    "    coordinates['Longitude'] = coordinates.get('Longitude') + [lng]\n",
    "\n",
    "toronto_df[['Latitude', 'Longitude']] = pd.DataFrame(coordinates)\n",
    "toronto_df.head(15)"
   ]
  },
  {
   "cell_type": "markdown",
   "metadata": {},
   "source": [
    "Check for nulls"
   ]
  },
  {
   "cell_type": "code",
   "execution_count": 5,
   "metadata": {},
   "outputs": [
    {
     "data": {
      "text/plain": [
       "Postal Code      0.0\n",
       "Borough          0.0\n",
       "Neighbourhood    0.0\n",
       "Latitude         0.0\n",
       "Longitude        0.0\n",
       "dtype: float64"
      ]
     },
     "execution_count": 5,
     "metadata": {},
     "output_type": "execute_result"
    }
   ],
   "source": [
    "toronto_df.isnull().mean()"
   ]
  },
  {
   "cell_type": "markdown",
   "metadata": {},
   "source": [
    "Everything worked perfectly, so let's save the results into a csv file :"
   ]
  },
  {
   "cell_type": "code",
   "execution_count": 6,
   "metadata": {},
   "outputs": [],
   "source": [
    "toronto_df.to_csv('Toronto_neighborhoods_data.csv', index=False)"
   ]
  }
 ],
 "metadata": {
  "kernelspec": {
   "display_name": "Python 3",
   "language": "python",
   "name": "python3"
  },
  "language_info": {
   "codemirror_mode": {
    "name": "ipython",
    "version": 3
   },
   "file_extension": ".py",
   "mimetype": "text/x-python",
   "name": "python",
   "nbconvert_exporter": "python",
   "pygments_lexer": "ipython3",
   "version": "3.7.6"
  }
 },
 "nbformat": 4,
 "nbformat_minor": 4
}
